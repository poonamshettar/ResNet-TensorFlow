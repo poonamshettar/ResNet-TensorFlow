{
 "cells": [
  {
   "cell_type": "code",
   "execution_count": 34,
   "metadata": {},
   "outputs": [],
   "source": [
    "import tensorflow as tf"
   ]
  },
  {
   "cell_type": "code",
   "execution_count": 35,
   "metadata": {},
   "outputs": [],
   "source": [
    "class residual1(tf.keras.Model):\n",
    "    def __init__(self,channels,_1x1conv=False,strides=1):\n",
    "        super().__init__()\n",
    "        self.conv1=tf.keras.layers.Conv2D(channels,padding='same',kernel_size=3,strides=strides)\n",
    "        self.conv2=tf.keras.layers.Conv2D(channels,padding='same',kernel_size=3)\n",
    "        self.conv3=None\n",
    "        if _1x1conv:\n",
    "            self.conv3=tf.keras.layers.Conv2D(channels,kernel_size=1,strides=strides)\n",
    "        self.bn1=tf.keras.layers.BatchNormalization()\n",
    "        self.bn2=tf.keras.layers.BatchNormalization()\n",
    "\n",
    "    def call(self,x):\n",
    "        y=tf.keras.activations.relu(self.bn1(self.conv1(x)))\n",
    "        y=self.bn2(self.conv2(y))\n",
    "        if self.conv3 is not None:\n",
    "            x=self.conv3(x)\n",
    "        y+=x\n",
    "        return tf.keras.activations.relu(y)\n"
   ]
  },
  {
   "cell_type": "code",
   "execution_count": 36,
   "metadata": {},
   "outputs": [],
   "source": [
    "# blk = residual(3)\n",
    "# x = tf.random.normal((4, 6, 6, 3))\n",
    "# y = blk(x)\n",
    "# y.shape"
   ]
  },
  {
   "cell_type": "code",
   "execution_count": 37,
   "metadata": {},
   "outputs": [],
   "source": [
    "# blk = residual(6, _1x1conv=True, strides=2)\n",
    "# blk(x).shape"
   ]
  },
  {
   "cell_type": "code",
   "execution_count": 38,
   "metadata": {},
   "outputs": [],
   "source": [
    "class ResNet(tf.keras.Model):\n",
    "    def __init__(self,dimensions,lr=0.1,num_classes=10):\n",
    "        super(ResNet,self).__init__()\n",
    "        # self.save_hyperparameters()\n",
    "        self.net=tf.keras.models.Sequential(self.block1())\n",
    "        for i,n in enumerate(dimensions):\n",
    "            self.net.add(self.block(*n,first_block=(i==0)))\n",
    "        self.net.add(tf.keras.models.Sequential([\n",
    "            tf.keras.layers.GlobalAveragePooling2D(),\n",
    "            tf.keras.layers.Dense(units=num_classes)\n",
    "        ]))\n",
    "\n",
    "    def block1(self):\n",
    "        return tf.keras.models.Sequential([\n",
    "            tf.keras.layers.Conv2D(64,kernel_size=7,strides=2,padding='same'),\n",
    "            tf.keras.layers.BatchNormalization(),\n",
    "            tf.keras.layers.Activation('relu'),\n",
    "            tf.keras.layers.MaxPool2D(pool_size=3,strides=2,padding='same')])\n",
    "\n",
    "    def block(self,num_residuals,channels,first_block=False):\n",
    "        b=tf.keras.models.Sequential()\n",
    "        for i in range(num_residuals):\n",
    "            if i==0 and not first_block:\n",
    "                b.add(residual1(channels,_1x1conv=True,strides=2))\n",
    "            else:\n",
    "                b.add(residual1(channels))\n",
    "        return b"
   ]
  },
  {
   "cell_type": "code",
   "execution_count": 39,
   "metadata": {},
   "outputs": [],
   "source": [
    "# x=ResNet()\n",
    "# x.block1()"
   ]
  },
  {
   "cell_type": "code",
   "execution_count": 40,
   "metadata": {},
   "outputs": [
    {
     "data": {
      "text/plain": [
       "<__main__.ResNet18 at 0x18c89fec340>"
      ]
     },
     "execution_count": 40,
     "metadata": {},
     "output_type": "execute_result"
    }
   ],
   "source": [
    "class ResNet18(ResNet):\n",
    "    def __init__(self, lr=0.1, num_classes=10):\n",
    "        super().__init__(((2, 64), (2, 128), (2, 256), (2, 512)),\n",
    "                       lr, num_classes)\n",
    "\n",
    "ResNet18()"
   ]
  }
 ],
 "metadata": {
  "kernelspec": {
   "display_name": "project",
   "language": "python",
   "name": "python3"
  },
  "language_info": {
   "codemirror_mode": {
    "name": "ipython",
    "version": 3
   },
   "file_extension": ".py",
   "mimetype": "text/x-python",
   "name": "python",
   "nbconvert_exporter": "python",
   "pygments_lexer": "ipython3",
   "version": "3.9.17"
  }
 },
 "nbformat": 4,
 "nbformat_minor": 2
}
